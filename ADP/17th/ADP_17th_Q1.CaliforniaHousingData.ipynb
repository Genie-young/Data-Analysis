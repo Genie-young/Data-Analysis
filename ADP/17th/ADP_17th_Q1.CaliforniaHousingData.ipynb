{
 "cells": [
  {
   "cell_type": "code",
   "execution_count": 1,
   "metadata": {},
   "outputs": [],
   "source": [
    "import pandas as pd\n",
    "import numpy as np"
   ]
  },
  {
   "cell_type": "code",
   "execution_count": 3,
   "metadata": {},
   "outputs": [],
   "source": [
    "housingDf = pd.read_csv('archive/housing.csv')"
   ]
  },
  {
   "cell_type": "code",
   "execution_count": 20,
   "metadata": {},
   "outputs": [
    {
     "data": {
      "text/plain": [
       "(20640, 10)"
      ]
     },
     "execution_count": 20,
     "metadata": {},
     "output_type": "execute_result"
    }
   ],
   "source": [
    "housingDf.shape"
   ]
  },
  {
   "cell_type": "code",
   "execution_count": 22,
   "metadata": {},
   "outputs": [
    {
     "data": {
      "text/plain": [
       "'\\nlongitude: A measure of how far west a house is; a higher value is farther west\\nlatitude: A measure of how far north a house is; a higher value is farther north\\nhousingMedianAge: Median age of a house within a block; a lower number is a newer building\\ntotalRooms: Total number of rooms within a block\\ntotalBedrooms: Total number of bedrooms within a block\\npopulation: Total number of people residing within a block\\nhouseholds: Total number of households, a group of people residing within a home unit, for a block\\nmedianIncome: Median income for households within a block of houses (measured in tens of thousands of US Dollars)\\nmedianHouseValue: Median house value for households within a block (measured in US Dollars)\\noceanProximity: Location of the house w.r.t ocean/sea\\n'"
      ]
     },
     "execution_count": 22,
     "metadata": {},
     "output_type": "execute_result"
    }
   ],
   "source": [
    "housingDf.head()\n",
    "\n",
    "'''\n",
    "longitude: A measure of how far west a house is; a higher value is farther west\n",
    "latitude: A measure of how far north a house is; a higher value is farther north\n",
    "housingMedianAge: Median age of a house within a block; a lower number is a newer building\n",
    "totalRooms: Total number of rooms within a block\n",
    "totalBedrooms: Total number of bedrooms within a block\n",
    "population: Total number of people residing within a block\n",
    "households: Total number of households, a group of people residing within a home unit, for a block\n",
    "medianIncome: Median income for households within a block of houses (measured in tens of thousands of US Dollars)\n",
    "medianHouseValue: Median house value for households within a block (measured in US Dollars)\n",
    "oceanProximity: Location of the house w.r.t ocean/sea\n",
    "'''"
   ]
  },
  {
   "cell_type": "code",
   "execution_count": 23,
   "metadata": {},
   "outputs": [
    {
     "data": {
      "text/plain": [
       "count     20640.000000\n",
       "mean     206855.816909\n",
       "std      115395.615874\n",
       "min       14999.000000\n",
       "25%      119600.000000\n",
       "50%      179700.000000\n",
       "75%      264725.000000\n",
       "max      500001.000000\n",
       "Name: median_house_value, dtype: float64"
      ]
     },
     "execution_count": 23,
     "metadata": {},
     "output_type": "execute_result"
    }
   ],
   "source": [
    "housingDf.median_house_value.describe()"
   ]
  },
  {
   "cell_type": "code",
   "execution_count": 12,
   "metadata": {},
   "outputs": [
    {
     "data": {
      "text/plain": [
       "<1H OCEAN     9136\n",
       "INLAND        6551\n",
       "NEAR OCEAN    2658\n",
       "NEAR BAY      2290\n",
       "ISLAND           5\n",
       "Name: ocean_proximity, dtype: int64"
      ]
     },
     "execution_count": 12,
     "metadata": {},
     "output_type": "execute_result"
    }
   ],
   "source": [
    "housingDf.ocean_proximity.value_counts()"
   ]
  },
  {
   "cell_type": "code",
   "execution_count": 17,
   "metadata": {},
   "outputs": [
    {
     "data": {
      "text/plain": [
       "(20640, 10)"
      ]
     },
     "execution_count": 17,
     "metadata": {},
     "output_type": "execute_result"
    }
   ],
   "source": []
  },
  {
   "cell_type": "code",
   "execution_count": null,
   "metadata": {},
   "outputs": [],
   "source": []
  }
 ],
 "metadata": {
  "kernelspec": {
   "display_name": "Python 3",
   "language": "python",
   "name": "python3"
  },
  "language_info": {
   "codemirror_mode": {
    "name": "ipython",
    "version": 3
   },
   "file_extension": ".py",
   "mimetype": "text/x-python",
   "name": "python",
   "nbconvert_exporter": "python",
   "pygments_lexer": "ipython3",
   "version": "3.8.5"
  }
 },
 "nbformat": 4,
 "nbformat_minor": 4
}
